{
 "cells": [
  {
   "cell_type": "markdown",
   "id": "056bbdd4",
   "metadata": {},
   "source": [
    "## Basic Configuration"
   ]
  },
  {
   "cell_type": "markdown",
   "id": "cfb7a2b1",
   "metadata": {},
   "source": [
    "### Installing dependencies"
   ]
  },
  {
   "cell_type": "code",
   "execution_count": 1,
   "id": "7165981d",
   "metadata": {},
   "outputs": [],
   "source": [
    "# !pip install tensorflow opencv-python matplotlib"
   ]
  },
  {
   "cell_type": "markdown",
   "id": "7ba393ae",
   "metadata": {},
   "source": [
    "### Importing dependencies"
   ]
  },
  {
   "cell_type": "code",
   "execution_count": 2,
   "id": "e17d693b",
   "metadata": {},
   "outputs": [],
   "source": [
    "import cv2\n",
    "import os\n",
    "import random\n",
    "import numpy as np\n",
    "from matplotlib import pyplot as plt"
   ]
  },
  {
   "cell_type": "code",
   "execution_count": 3,
   "id": "1e581abd",
   "metadata": {},
   "outputs": [],
   "source": [
    "from tensorflow.keras.models import Model\n",
    "from tensorflow.keras.layers import Layer, Conv2D, Dense, MaxPooling2D, Input, Flatten\n",
    "import tensorflow as tf"
   ]
  },
  {
   "cell_type": "markdown",
   "id": "15c8683c",
   "metadata": {},
   "source": [
    "### Unzipping dataset"
   ]
  },
  {
   "cell_type": "code",
   "execution_count": 4,
   "id": "e403208a",
   "metadata": {},
   "outputs": [],
   "source": [
    "# !tar -xf lfw.tgz"
   ]
  },
  {
   "cell_type": "markdown",
   "id": "3ccf6352",
   "metadata": {},
   "source": [
    "### Creating directories"
   ]
  },
  {
   "cell_type": "code",
   "execution_count": 5,
   "id": "9987da1d",
   "metadata": {},
   "outputs": [],
   "source": [
    "POS_PATH = os.path.join('data', 'positive')\n",
    "NEG_PATH = os.path.join('data', 'negative')"
   ]
  },
  {
   "cell_type": "code",
   "execution_count": 6,
   "id": "bc62966b",
   "metadata": {},
   "outputs": [],
   "source": [
    "# os.makedirs(POS_PATH)\n",
    "# os.makedirs(NEG_PATH)"
   ]
  },
  {
   "cell_type": "markdown",
   "id": "58b98473",
   "metadata": {},
   "source": [
    "### Moving images into directories"
   ]
  },
  {
   "cell_type": "code",
   "execution_count": 7,
   "id": "41f05852",
   "metadata": {},
   "outputs": [],
   "source": [
    "# total_dirs = 0\n",
    "# single_img = 0\n",
    "# for directory in os.listdir('lfw'):\n",
    "#     if(len(os.listdir(os.path.join('lfw', directory))))==1:\n",
    "#         single_img+=1\n",
    "#     total_dirs+=1\n",
    "# print(f\"TOTAL DIRS: {total_dirs}\")\n",
    "# print(f\"SINGLE IMG: {single_img}\")\n",
    "# print(f\"NON SINGLE IMG:{total_dirs - single_img}\")"
   ]
  },
  {
   "cell_type": "code",
   "execution_count": 8,
   "id": "4b8feb12",
   "metadata": {},
   "outputs": [],
   "source": [
    "# # renaming an image in a directory with multiple images to anchor\n",
    "# for directory in os.listdir('lfw'):\n",
    "#     if len(os.listdir(os.path.join('lfw', directory)))>1:\n",
    "#         for i, file in enumerate(os.listdir(os.path.join('lfw', directory))):\n",
    "#             if i==0:\n",
    "#                 os.rename(os.path.join('lfw', directory, file), os.path.join('lfw', directory, file.replace('0001', 'Anchor')))"
   ]
  },
  {
   "cell_type": "code",
   "execution_count": 9,
   "id": "fa3101d2",
   "metadata": {},
   "outputs": [],
   "source": [
    "# # moving positive images\n",
    "# for directory in os.listdir('lfw'):\n",
    "#     if len(os.listdir(os.path.join('lfw', directory)))>1:\n",
    "#         os.makedirs(os.path.join(POS_PATH, directory))\n",
    "#         for file in os.listdir(os.path.join('lfw', directory)):\n",
    "#             PREV_PATH = os.path.join('lfw', directory, file)\n",
    "#             NEW_PATH = os.path.join(POS_PATH, directory, file)\n",
    "#             os.replace(PREV_PATH, NEW_PATH)"
   ]
  },
  {
   "cell_type": "code",
   "execution_count": 10,
   "id": "b3f79874",
   "metadata": {},
   "outputs": [],
   "source": [
    "# # moving negative images\n",
    "# for directory in os.listdir('lfw'):\n",
    "#     if len(os.listdir(os.path.join('lfw', directory)))>0 and len(os.listdir(os.path.join('lfw', directory)))<2:\n",
    "#         for file in os.listdir(os.path.join('lfw', directory)):\n",
    "#             PREV_PATH = os.path.join('lfw', directory, file)\n",
    "#             NEW_PATH = os.path.join(NEG_PATH, file)\n",
    "#             os.replace(PREV_PATH, NEW_PATH)"
   ]
  },
  {
   "cell_type": "markdown",
   "id": "1cffe086",
   "metadata": {},
   "source": [
    "## Preprocess"
   ]
  },
  {
   "cell_type": "markdown",
   "id": "5799286a",
   "metadata": {},
   "source": [
    "### Getting images"
   ]
  },
  {
   "cell_type": "code",
   "execution_count": 178,
   "id": "de16dae4",
   "metadata": {},
   "outputs": [],
   "source": [
    "negative = tf.data.Dataset.list_files(NEG_PATH+'\\*.jpg').take(300)\n",
    "anchor = tf.data.Dataset.list_files(POS_PATH+'\\*\\*_Anchor.jpg').take(300)"
   ]
  },
  {
   "cell_type": "code",
   "execution_count": 180,
   "id": "8ba56cec",
   "metadata": {},
   "outputs": [],
   "source": [
    "def get_positive_paths(anchor_dir_str):\n",
    "    # List all files in the directory and exclude Anchor.jpg\n",
    "    anchor_path_dir = '\\\\'.join(anchor_dir_str.split(\"\\\\\")[:-1])\n",
    "    img_names_numbers = [\n",
    "        file.split('_')[-1].replace('.jpg', '') \n",
    "        for file in os.listdir(anchor_path_dir) \n",
    "        if file.endswith('.jpg') and 'Anchor' not in file\n",
    "    ]\n",
    "    return img_names_numbers"
   ]
  },
  {
   "cell_type": "code",
   "execution_count": 181,
   "id": "d96dd7f7",
   "metadata": {},
   "outputs": [],
   "source": [
    "def map_anchor_to_positive(anchor_path):\n",
    "    # Convert tensor to numpy to get directory string outside of TensorFlow operations\n",
    "    anchor_dir = tf.strings.split(anchor_path, os.sep)[-2]\n",
    "    \n",
    "    # Use `tf.numpy_function` to convert tensor to numpy string\n",
    "    def process_path(anchor_path_numpy):\n",
    "        anchor_dir_str = anchor_path_numpy.decode('utf-8')\n",
    "        img_names_numbers = get_positive_paths(anchor_dir_str)\n",
    "        random_img_number = random.choice(img_names_numbers)\n",
    "        positive_path = anchor_path_numpy.replace(b'Anchor.jpg', f'{random_img_number}.jpg'.encode())\n",
    "        return anchor_path_numpy, positive_path\n",
    "    \n",
    "    # Use `tf.numpy_function` to apply the custom processing function\n",
    "    anchor_path = tf.numpy_function(process_path, [anchor_path], [tf.string, tf.string])\n",
    "    return anchor_path"
   ]
  },
  {
   "cell_type": "code",
   "execution_count": 182,
   "id": "b1739859",
   "metadata": {},
   "outputs": [],
   "source": [
    "def preprocess(file_path):\n",
    "#     read image from file path\n",
    "    byte_img = tf.io.read_file(file_path)\n",
    "#     load in the image\n",
    "    img = tf.io.decode_jpeg(byte_img)\n",
    "#     preprocess\n",
    "    img = tf.image.resize(img, (100, 100))\n",
    "#     scale image\n",
    "    img = img / 255.0\n",
    "    return img"
   ]
  },
  {
   "cell_type": "code",
   "execution_count": 183,
   "id": "ffa1c46e",
   "metadata": {},
   "outputs": [],
   "source": [
    "anchor_positive_pairs = anchor.map(map_anchor_to_positive)"
   ]
  },
  {
   "cell_type": "code",
   "execution_count": 184,
   "id": "345cd884",
   "metadata": {},
   "outputs": [],
   "source": [
    "positives = tf.data.Dataset.zip((anchor_positive_pairs, tf.data.Dataset.from_tensor_slices(tf.ones(len(anchor)))))\n",
    "negatives = tf.data.Dataset.zip(((anchor, negative), tf.data.Dataset.from_tensor_slices(tf.zeros(len(anchor)))))"
   ]
  },
  {
   "cell_type": "code",
   "execution_count": 185,
   "id": "c523db02",
   "metadata": {},
   "outputs": [],
   "source": [
    "data = positives.concatenate(negatives)"
   ]
  },
  {
   "cell_type": "code",
   "execution_count": 186,
   "id": "74d367f0",
   "metadata": {},
   "outputs": [],
   "source": [
    "samples = data.as_numpy_iterator()"
   ]
  },
  {
   "cell_type": "code",
   "execution_count": 203,
   "id": "85171b3f",
   "metadata": {},
   "outputs": [
    {
     "data": {
      "text/plain": [
       "[((<tf.Tensor: shape=(), dtype=string, numpy=b'data\\\\positive\\\\Ron_Dittemore\\\\Ron_Dittemore_Anchor.jpg'>,\n",
       "   <tf.Tensor: shape=(), dtype=string, numpy=b'data\\\\negative\\\\Larry_Flynt_0001.jpg'>),\n",
       "  <tf.Tensor: shape=(), dtype=float32, numpy=0.0>),\n",
       " ((<tf.Tensor: shape=(), dtype=string, numpy=b'data\\\\positive\\\\George_Robertson\\\\George_Robertson_Anchor.jpg'>,\n",
       "   <tf.Tensor: shape=(), dtype=string, numpy=b'data\\\\negative\\\\Newton_Carlton_Slawson_0001.jpg'>),\n",
       "  <tf.Tensor: shape=(), dtype=float32, numpy=0.0>),\n",
       " ((<tf.Tensor: shape=(), dtype=string, numpy=b'data\\\\positive\\\\Nan_Wang\\\\Nan_Wang_Anchor.jpg'>,\n",
       "   <tf.Tensor: shape=(), dtype=string, numpy=b'data\\\\negative\\\\Sureyya_Ayhan_0001.jpg'>),\n",
       "  <tf.Tensor: shape=(), dtype=float32, numpy=0.0>),\n",
       " ((<tf.Tensor: shape=(), dtype=string, numpy=b'data\\\\positive\\\\Tom_Cruise\\\\Tom_Cruise_Anchor.jpg'>,\n",
       "   <tf.Tensor: shape=(), dtype=string, numpy=b'data\\\\negative\\\\Ed_Wade_0001.jpg'>),\n",
       "  <tf.Tensor: shape=(), dtype=float32, numpy=0.0>),\n",
       " ((<tf.Tensor: shape=(), dtype=string, numpy=b'data\\\\positive\\\\Mitoji_Yabunaka\\\\Mitoji_Yabunaka_Anchor.jpg'>,\n",
       "   <tf.Tensor: shape=(), dtype=string, numpy=b'data\\\\negative\\\\Kirk_Douglas_0001.jpg'>),\n",
       "  <tf.Tensor: shape=(), dtype=float32, numpy=0.0>)]"
      ]
     },
     "execution_count": 203,
     "metadata": {},
     "output_type": "execute_result"
    }
   ],
   "source": [
    "list((negatives.take(5)))"
   ]
  },
  {
   "cell_type": "code",
   "execution_count": null,
   "id": "4c201c71",
   "metadata": {},
   "outputs": [],
   "source": []
  }
 ],
 "metadata": {
  "kernelspec": {
   "display_name": "Python 3 (ipykernel)",
   "language": "python",
   "name": "python3"
  },
  "language_info": {
   "codemirror_mode": {
    "name": "ipython",
    "version": 3
   },
   "file_extension": ".py",
   "mimetype": "text/x-python",
   "name": "python",
   "nbconvert_exporter": "python",
   "pygments_lexer": "ipython3",
   "version": "3.10.9"
  }
 },
 "nbformat": 4,
 "nbformat_minor": 5
}
